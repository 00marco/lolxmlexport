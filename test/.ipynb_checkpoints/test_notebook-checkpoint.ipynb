{
 "cells": [
  {
   "cell_type": "code",
   "execution_count": 6,
   "metadata": {},
   "outputs": [
    {
     "data": {
      "text/html": [
       "\n",
       "                <script type=\"application/javascript\" id=\"jupyter_black\">\n",
       "                (function() {\n",
       "                    if (window.IPython === undefined) {\n",
       "                        return\n",
       "                    }\n",
       "                    var msg = \"WARNING: it looks like you might have loaded \" +\n",
       "                        \"jupyter_black in a non-lab notebook with \" +\n",
       "                        \"`is_lab=True`. Please double check, and if \" +\n",
       "                        \"loading with `%load_ext` please review the README!\"\n",
       "                    console.log(msg)\n",
       "                    alert(msg)\n",
       "                })()\n",
       "                </script>\n",
       "                "
      ],
      "text/plain": [
       "<IPython.core.display.HTML object>"
      ]
     },
     "metadata": {},
     "output_type": "display_data"
    }
   ],
   "source": [
    "%load_ext jupyter_black"
   ]
  },
  {
   "cell_type": "code",
   "execution_count": 27,
   "metadata": {},
   "outputs": [],
   "source": [
    "from json_schemas import (\n",
    "    custom_transforms_dict_ingredient,\n",
    "    custom_transforms_dict_product,\n",
    ")\n",
    "from xml_transform_utils import XMLTransformUtils\n",
    "import xml.etree.ElementTree as ET\n",
    "from xmldiff import main"
   ]
  },
  {
   "cell_type": "code",
   "execution_count": 28,
   "metadata": {},
   "outputs": [],
   "source": [
    "json_data = {\n",
    "    \"person\": {\n",
    "        \"name\": \"John Doe\",\n",
    "        \"age\": 30,\n",
    "        \"test\": \"\",\n",
    "        \"address\": {\"street\": \"123 Main St\", \"city\": \"Anytown\"},\n",
    "        \"testlist\": [\n",
    "            {\"testkey1\": {\"testkey11\": \"testkey12\"}},\n",
    "            {\"testkey1\": {\"testkey11\": \"testkey12\"}},\n",
    "            {\"testkey2\": {\"testkey21\": \"testkey22\"}},\n",
    "        ],\n",
    "    }\n",
    "}"
   ]
  },
  {
   "cell_type": "code",
   "execution_count": 29,
   "metadata": {},
   "outputs": [
    {
     "name": "stdout",
     "output_type": "stream",
     "text": [
      "<FormulationML xmlns=\"http://www.formatinternational.com/FormulationML\">\n",
      "  <IngredientList>\n",
      "    <Ingredient>\n",
      "      <person>\n",
      "        <name>John Doe</name>\n",
      "        <age>30</age>\n",
      "        <test></test>\n",
      "        <address>\n",
      "          <street>123 Main St</street>\n",
      "          <city>Anytown</city>\n",
      "        </address>\n",
      "        <testlist>\n",
      "          <testkey1>\n",
      "            <testkey11>testkey12</testkey11>\n",
      "          </testkey1>\n",
      "          <testkey1>\n",
      "            <testkey11>testkey12</testkey11>\n",
      "          </testkey1>\n",
      "          <testkey2>\n",
      "            <testkey21>testkey22</testkey21>\n",
      "          </testkey2>\n",
      "        </testlist>\n",
      "      </person>\n",
      "    </Ingredient>\n",
      "  </IngredientList>\n",
      "</FormulationML>\n",
      "\n"
     ]
    },
    {
     "data": {
      "text/plain": [
       "'<FormulationML xmlns=\"http://www.formatinternational.com/FormulationML\">\\n  <IngredientList>\\n    <Ingredient>\\n      <person>\\n        <name>John Doe</name>\\n        <age>30</age>\\n        <test></test>\\n        <address>\\n          <street>123 Main St</street>\\n          <city>Anytown</city>\\n        </address>\\n        <testlist>\\n          <testkey1>\\n            <testkey11>testkey12</testkey11>\\n          </testkey1>\\n          <testkey1>\\n            <testkey11>testkey12</testkey11>\\n          </testkey1>\\n          <testkey2>\\n            <testkey21>testkey22</testkey21>\\n          </testkey2>\\n        </testlist>\\n      </person>\\n    </Ingredient>\\n  </IngredientList>\\n</FormulationML>\\n'"
      ]
     },
     "execution_count": 29,
     "metadata": {},
     "output_type": "execute_result"
    }
   ],
   "source": [
    "xml_output = XMLTransformUtils().json_to_xml(\n",
    "    json_obj=json_data,\n",
    "    dict_type=\"Ingredient\",\n",
    "    root_name=\"FormulationML\",\n",
    "    custom_transforms_dict=custom_transforms_dict_product,\n",
    ")\n",
    "logging.debug(xml_output)\n",
    "xml_output"
   ]
  },
  {
   "cell_type": "code",
   "execution_count": 30,
   "metadata": {},
   "outputs": [
    {
     "name": "stdout",
     "output_type": "stream",
     "text": [
      "<FormulationML xmlns=\"http://www.formatinternational.com/FormulationML\">\n",
      "  <IngredientList>\n",
      "    <Ingredient>\n",
      "      <person>\n",
      "        <name>John Doe</name>\n",
      "        <age>30</age>\n",
      "        <test></test>\n",
      "        <address>\n",
      "          <street>123 Main St</street>\n",
      "          <city>Anytown</city>\n",
      "        </address>\n",
      "        <testlist>\n",
      "          <testkey1>\n",
      "            <testkey11>testkey12</testkey11>\n",
      "          </testkey1>\n",
      "          <testkey1>\n",
      "            <testkey11>testkey12</testkey11>\n",
      "          </testkey1>\n",
      "          <testkey2>\n",
      "            <testkey21>testkey22</testkey21>\n",
      "          </testkey2>\n",
      "        </testlist>\n",
      "      </person>\n",
      "    </Ingredient>\n",
      "  </IngredientList>\n",
      "</FormulationML>\n"
     ]
    },
    {
     "data": {
      "text/plain": [
       "'<FormulationML xmlns=\"http://www.formatinternational.com/FormulationML\">\\n  <IngredientList>\\n    <Ingredient>\\n      <person>\\n        <name>John Doe</name>\\n        <age>30</age>\\n        <test></test>\\n        <address>\\n          <street>123 Main St</street>\\n          <city>Anytown</city>\\n        </address>\\n        <testlist>\\n          <testkey1>\\n            <testkey11>testkey12</testkey11>\\n          </testkey1>\\n          <testkey1>\\n            <testkey11>testkey12</testkey11>\\n          </testkey1>\\n          <testkey2>\\n            <testkey21>testkey22</testkey21>\\n          </testkey2>\\n        </testlist>\\n      </person>\\n    </Ingredient>\\n  </IngredientList>\\n</FormulationML>'"
      ]
     },
     "execution_count": 30,
     "metadata": {},
     "output_type": "execute_result"
    }
   ],
   "source": [
    "with open(\"test_output.xml\", \"r\") as file:\n",
    "    expected_xml = file.read()\n",
    "\n",
    "logging.debug(expected_xml)\n",
    "expected_xml"
   ]
  },
  {
   "cell_type": "code",
   "execution_count": null,
   "metadata": {},
   "outputs": [],
   "source": []
  },
  {
   "cell_type": "code",
   "execution_count": null,
   "metadata": {},
   "outputs": [],
   "source": []
  },
  {
   "cell_type": "code",
   "execution_count": null,
   "metadata": {},
   "outputs": [],
   "source": []
  },
  {
   "cell_type": "code",
   "execution_count": null,
   "metadata": {},
   "outputs": [],
   "source": []
  }
 ],
 "metadata": {
  "kernelspec": {
   "display_name": "Python 3 (ipykernel)",
   "language": "python",
   "name": "python3"
  },
  "language_info": {
   "codemirror_mode": {
    "name": "ipython",
    "version": 3
   },
   "file_extension": ".py",
   "mimetype": "text/x-python",
   "name": "python",
   "nbconvert_exporter": "python",
   "pygments_lexer": "ipython3",
   "version": "3.11.9"
  }
 },
 "nbformat": 4,
 "nbformat_minor": 4
}
